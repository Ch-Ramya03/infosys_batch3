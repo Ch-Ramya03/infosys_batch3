{
  "nbformat": 4,
  "nbformat_minor": 0,
  "metadata": {
    "colab": {
      "provenance": []
    },
    "kernelspec": {
      "name": "python3",
      "display_name": "Python 3"
    },
    "language_info": {
      "name": "python"
    }
  },
  "cells": [
    {
      "cell_type": "code",
      "source": [
        "# ==== Step 1. Import Libraries ====\n",
        "import pandas as pd\n",
        "import numpy as np\n",
        "import matplotlib.pyplot as plt\n",
        "from sklearn.metrics import mean_absolute_error, mean_squared_error\n",
        "from sklearn.preprocessing import MinMaxScaler\n",
        "import pickle, joblib, warnings, os\n",
        "from prophet import Prophet\n",
        "import xgboost as xgb\n",
        "from tensorflow.keras.models import Sequential\n",
        "from tensorflow.keras.layers import LSTM, Dense\n",
        "from tensorflow.keras.callbacks import EarlyStopping\n",
        "from statsmodels.tsa.arima.model import ARIMA\n",
        "from math import sqrt\n",
        "import zipfile # Import zipfile\n",
        "\n",
        "warnings.filterwarnings(\"ignore\")\n",
        "plt.style.use('seaborn-v0_8-whitegrid')\n",
        "\n",
        "# ==== Step 0. Load Dataset ====\n",
        "# Unzip the file first\n",
        "zip_path = \"/content/city_day.csv.zip\"\n",
        "extract_path = \"/content/\"\n",
        "with zipfile.ZipFile(zip_path, 'r') as zip_ref:\n",
        "    zip_ref.extractall(extract_path)\n",
        "\n",
        "# Load the extracted CSV\n",
        "csv_path = os.path.join(extract_path, \"city_day.csv\")\n",
        "df = pd.read_csv(csv_path)\n",
        "print(\"Raw dataset shape:\", df.shape)\n",
        "\n",
        "# ==== Step 2. Data Cleaning ====\n",
        "df = df[['Date', 'City', 'PM2.5']].dropna()\n",
        "df['Date'] = pd.to_datetime(df['Date'])\n",
        "df = df[df['PM2.5'] > 0]\n",
        "df = df.sort_values(['City', 'Date'])\n",
        "\n",
        "# Create results folder\n",
        "os.makedirs(\"results\", exist_ok=True)\n",
        "clean_path = \"results/clean_city_data.csv\"\n",
        "df.to_csv(clean_path, index=False)\n",
        "print(f\"✅ Clean dataset saved at: {os.path.abspath(clean_path)}\")\n",
        "\n",
        "# ==== Step 3. Loop Over Each City ====\n",
        "city_results = []\n",
        "\n",
        "for city in df['City'].unique():\n",
        "    print(f\"\\n================= {city} =================\")\n",
        "\n",
        "    city_df = df[df['City'] == city].copy()\n",
        "    city_df.set_index('Date', inplace=True)\n",
        "    series = city_df['PM2.5'].asfreq('D').fillna(method='ffill')\n",
        "\n",
        "    # Skip very small datasets\n",
        "    if len(series) < 100:\n",
        "        print(f\"Skipping {city} (too few records)\")\n",
        "        continue\n",
        "\n",
        "    # Split data\n",
        "    train_size = int(len(series)*0.8)\n",
        "    train, test = series[:train_size], series[train_size:]\n",
        "\n",
        "    # Ensure test set has at least 10 data points\n",
        "    if len(test) < 10:\n",
        "        print(f\"Adjusting split for {city} to ensure test set has at least 10 records.\")\n",
        "        test_size = min(10, len(series)) # Ensure test_size is not more than total series length\n",
        "        train_size = len(series) - test_size\n",
        "        train, test = series[:train_size], series[train_size:]\n",
        "        if len(test) == 0:\n",
        "             print(f\"Skipping {city} (still too few records after adjustment)\")\n",
        "             continue\n",
        "\n",
        "\n",
        "    results = {}\n",
        "\n",
        "    # --- ARIMA ---\n",
        "    try:\n",
        "        if len(test) > 0:\n",
        "            model_arima = ARIMA(train, order=(1,1,1)).fit()\n",
        "            pred_arima = model_arima.forecast(len(test))\n",
        "            mae_arima = mean_absolute_error(test, pred_arima)\n",
        "            rmse_arima = sqrt(mean_squared_error(test, pred_arima))\n",
        "            results['ARIMA'] = (mae_arima, rmse_arima)\n",
        "        else:\n",
        "            print(f\"ARIMA skipped for {city}: test set is empty.\")\n",
        "    except Exception as e:\n",
        "        print(f\"ARIMA failed for {city}: {e}\")\n",
        "\n",
        "    # --- Prophet ---\n",
        "    try:\n",
        "        if len(test) > 0:\n",
        "            prophet_df = train.reset_index()\n",
        "            prophet_df.columns = ['ds', 'y']\n",
        "            model_prophet = Prophet()\n",
        "            model_prophet.fit(prophet_df)\n",
        "            future = pd.DataFrame(test.index, columns=['ds'])\n",
        "            forecast = model_prophet.predict(future)\n",
        "            pred_prophet = forecast['yhat'].values\n",
        "            mae_prophet = mean_absolute_error(test, pred_prophet)\n",
        "            rmse_prophet = sqrt(mean_squared_error(test, pred_prophet))\n",
        "            results['Prophet'] = (mae_prophet, rmse_prophet)\n",
        "        else:\n",
        "            print(f\"Prophet skipped for {city}: test set is empty.\")\n",
        "    except Exception as e:\n",
        "        print(f\"Prophet failed for {city}: {e}\")\n",
        "\n",
        "    # --- XGBoost ---\n",
        "    try:\n",
        "        lags = 5\n",
        "        X, y = [], []\n",
        "        for i in range(lags, len(train)):\n",
        "            X.append(train.values[i-lags:i])\n",
        "            y.append(train.values[i])\n",
        "        X_train = np.array(X)\n",
        "        y_train = np.array(y)\n",
        "\n",
        "        X_test, y_test = [], []\n",
        "        for i in range(lags, len(test)):\n",
        "            X_test.append(test.values[i-lags:i])\n",
        "            y_test.append(test.values[i])\n",
        "        X_test = np.array(X_test)\n",
        "        y_test = np.array(y_test)\n",
        "\n",
        "        # Ensure there are enough samples for XGBoost after creating lagged features\n",
        "        if len(X_train) > 0 and len(X_test) > 0:\n",
        "            scaler = MinMaxScaler()\n",
        "            X_train_scaled = scaler.fit_transform(X_train)\n",
        "            X_test_scaled = scaler.transform(X_test)\n",
        "\n",
        "            model_xgb = xgb.XGBRegressor(n_estimators=200, learning_rate=0.1)\n",
        "            model_xgb.fit(X_train_scaled, y_train)\n",
        "            pred_xgb = model_xgb.predict(X_test_scaled)\n",
        "            mae_xgb = mean_absolute_error(y_test, pred_xgb)\n",
        "            rmse_xgb = sqrt(mean_squared_error(y_test, pred_xgb))\n",
        "            results['XGBoost'] = (mae_xgb, rmse_xgb)\n",
        "        else:\n",
        "             print(f\"XGBoost skipped for {city}: not enough data for lagged features.\")\n",
        "\n",
        "    except Exception as e:\n",
        "        print(f\"XGBoost failed for {city}: {e}\")\n",
        "\n",
        "    # --- LSTM ---\n",
        "    try:\n",
        "        # Ensure there are enough samples for LSTM after creating lagged features\n",
        "        if len(X_train) > 0 and len(X_test) > 0:\n",
        "            X_train_lstm = X_train_scaled.reshape((X_train_scaled.shape[0], X_train_scaled.shape[1], 1))\n",
        "            X_test_lstm = X_test_scaled.reshape((X_test_scaled.shape[0], X_test_scaled.shape[1], 1))\n",
        "\n",
        "            model_lstm = Sequential([\n",
        "                LSTM(64, activation='relu', input_shape=(lags,1)),\n",
        "                Dense(1)\n",
        "            ])\n",
        "            model_lstm.compile(optimizer='adam', loss='mse')\n",
        "            model_lstm.fit(X_train_lstm, y_train, epochs=20, batch_size=16,\n",
        "                           validation_split=0.2, verbose=0,\n",
        "                           callbacks=[EarlyStopping(patience=3, restore_best_weights=True)])\n",
        "            pred_lstm = model_lstm.predict(X_test_lstm).flatten()\n",
        "            mae_lstm = mean_absolute_error(y_test, pred_lstm)\n",
        "            rmse_lstm = sqrt(mean_squared_error(test.values[lags:], pred_lstm)) # Ensure test values match pred_lstm length\n",
        "            results['LSTM'] = (mae_lstm, rmse_lstm)\n",
        "        else:\n",
        "            print(f\"LSTM skipped for {city}: not enough data for lagged features.\")\n",
        "\n",
        "    except Exception as e:\n",
        "        print(f\"LSTM failed for {city}: {e}\")\n",
        "\n",
        "\n",
        "    # ==== Step 4. Evaluate & Save Best ====\n",
        "    if not results:\n",
        "        continue\n",
        "\n",
        "    result_df = pd.DataFrame(results, index=['MAE','RMSE']).T\n",
        "    best_model_name = result_df['RMSE'].idxmin()\n",
        "    best_rmse = result_df.loc[best_model_name, 'RMSE']\n",
        "    print(f\"\\n📊 {city} results:\\n\", result_df)\n",
        "    print(f\"🏆 Best model for {city}: {best_model_name} (RMSE={best_rmse:.2f})\")\n",
        "\n",
        "    # ==== Step 5. Save Best Model ====\n",
        "    if best_model_name == 'ARIMA':\n",
        "        path = f\"results/{city}_best_arima.pkl\"\n",
        "        pickle.dump(model_arima, open(path, \"wb\"))\n",
        "    elif best_model_name == 'Prophet':\n",
        "        path = f\"results/{city}_best_prophet.pkl\"\n",
        "        pickle.dump(model_prophet, open(path, \"wb\"))\n",
        "    elif best_model_name == 'XGBoost':\n",
        "        path = f\"results/{city}_best_xgb.pkl\"\n",
        "        joblib.dump(model_xgb, path)\n",
        "    elif best_model_name == 'LSTM':\n",
        "        path = f\"results/{city}_best_lstm.h5\"\n",
        "        model_lstm.save(path)\n",
        "\n",
        "    city_results.append({\n",
        "        'City': city,\n",
        "        'Best_Model': best_model_name,\n",
        "        'RMSE': best_rmse,\n",
        "        'Save_Path': os.path.abspath(path)\n",
        "    })\n",
        "\n",
        "# ==== Step 6. Save Summary ====\n",
        "summary_df = pd.DataFrame(city_results)\n",
        "summary_path = \"results/city_model_summary.csv\"\n",
        "summary_df.to_csv(summary_path, index=False)\n",
        "print(\"\\n✅ Summary saved at:\", os.path.abspath(summary_path))\n",
        "print(summary_df)"
      ],
      "metadata": {
        "colab": {
          "base_uri": "https://localhost:8080/"
        },
        "id": "hdVFbZT4DMyS",
        "outputId": "fcd09bdd-fb06-4da1-a3f6-8fb3c52a8916"
      },
      "execution_count": 2,
      "outputs": [
        {
          "output_type": "stream",
          "name": "stdout",
          "text": [
            "Raw dataset shape: (29531, 16)\n",
            "✅ Clean dataset saved at: /content/results/clean_city_data.csv\n",
            "\n",
            "================= Ahmedabad =================\n"
          ]
        },
        {
          "output_type": "stream",
          "name": "stderr",
          "text": [
            "INFO:prophet:Disabling daily seasonality. Run prophet with daily_seasonality=True to override this.\n",
            "DEBUG:cmdstanpy:input tempfile: /tmp/tmpnd7erjuf/ukj0_jor.json\n",
            "DEBUG:cmdstanpy:input tempfile: /tmp/tmpnd7erjuf/mli0j6fg.json\n",
            "DEBUG:cmdstanpy:idx 0\n",
            "DEBUG:cmdstanpy:running CmdStan, num_threads: None\n",
            "DEBUG:cmdstanpy:CmdStan args: ['/usr/local/lib/python3.12/dist-packages/prophet/stan_model/prophet_model.bin', 'random', 'seed=81643', 'data', 'file=/tmp/tmpnd7erjuf/ukj0_jor.json', 'init=/tmp/tmpnd7erjuf/mli0j6fg.json', 'output', 'file=/tmp/tmpnd7erjuf/prophet_modelpuhy4q9n/prophet_model-20251023123210.csv', 'method=optimize', 'algorithm=lbfgs', 'iter=10000']\n",
            "12:32:10 - cmdstanpy - INFO - Chain [1] start processing\n",
            "INFO:cmdstanpy:Chain [1] start processing\n",
            "12:32:10 - cmdstanpy - INFO - Chain [1] done processing\n",
            "INFO:cmdstanpy:Chain [1] done processing\n"
          ]
        },
        {
          "output_type": "stream",
          "name": "stdout",
          "text": [
            "Prophet failed for Ahmedabad: Dataframe has no rows.\n",
            "\u001b[1m13/13\u001b[0m \u001b[32m━━━━━━━━━━━━━━━━━━━━\u001b[0m\u001b[37m\u001b[0m \u001b[1m0s\u001b[0m 15ms/step\n"
          ]
        },
        {
          "output_type": "stream",
          "name": "stderr",
          "text": [
            "INFO:prophet:Disabling yearly seasonality. Run prophet with yearly_seasonality=True to override this.\n",
            "INFO:prophet:Disabling daily seasonality. Run prophet with daily_seasonality=True to override this.\n",
            "DEBUG:cmdstanpy:input tempfile: /tmp/tmpnd7erjuf/qsq9tcwh.json\n",
            "DEBUG:cmdstanpy:input tempfile: /tmp/tmpnd7erjuf/b4aoefhp.json\n",
            "DEBUG:cmdstanpy:idx 0\n",
            "DEBUG:cmdstanpy:running CmdStan, num_threads: None\n",
            "DEBUG:cmdstanpy:CmdStan args: ['/usr/local/lib/python3.12/dist-packages/prophet/stan_model/prophet_model.bin', 'random', 'seed=55876', 'data', 'file=/tmp/tmpnd7erjuf/qsq9tcwh.json', 'init=/tmp/tmpnd7erjuf/b4aoefhp.json', 'output', 'file=/tmp/tmpnd7erjuf/prophet_model1oxamcdb/prophet_model-20251023123222.csv', 'method=optimize', 'algorithm=newton', 'iter=10000']\n",
            "12:32:22 - cmdstanpy - INFO - Chain [1] start processing\n",
            "INFO:cmdstanpy:Chain [1] start processing\n"
          ]
        },
        {
          "output_type": "stream",
          "name": "stdout",
          "text": [
            "\n",
            "📊 Ahmedabad results:\n",
            "                MAE       RMSE\n",
            "ARIMA    17.068461  23.311652\n",
            "XGBoost  14.217481  20.116114\n",
            "LSTM     16.421110  21.026806\n",
            "🏆 Best model for Ahmedabad: XGBoost (RMSE=20.12)\n",
            "\n",
            "================= Aizawl =================\n"
          ]
        },
        {
          "output_type": "stream",
          "name": "stderr",
          "text": [
            "12:32:22 - cmdstanpy - INFO - Chain [1] done processing\n",
            "INFO:cmdstanpy:Chain [1] done processing\n"
          ]
        },
        {
          "output_type": "stream",
          "name": "stdout",
          "text": [
            "Prophet failed for Aizawl: Dataframe has no rows.\n",
            "\u001b[1m1/1\u001b[0m \u001b[32m━━━━━━━━━━━━━━━━━━━━\u001b[0m\u001b[37m\u001b[0m \u001b[1m0s\u001b[0m 247ms/step\n"
          ]
        },
        {
          "output_type": "stream",
          "name": "stderr",
          "text": [
            "WARNING:absl:You are saving your model as an HDF5 file via `model.save()` or `keras.saving.save_model(model)`. This file format is considered legacy. We recommend using instead the native Keras format, e.g. `model.save('my_model.keras')` or `keras.saving.save_model(model, 'my_model.keras')`. \n"
          ]
        },
        {
          "output_type": "stream",
          "name": "stdout",
          "text": [
            "\n",
            "📊 Aizawl results:\n",
            "               MAE     RMSE\n",
            "ARIMA    6.620080  7.08868\n",
            "XGBoost  5.265497  5.82789\n",
            "LSTM     2.556633  2.81605\n",
            "🏆 Best model for Aizawl: LSTM (RMSE=2.82)\n",
            "\n",
            "================= Amaravati =================\n"
          ]
        },
        {
          "output_type": "stream",
          "name": "stderr",
          "text": [
            "INFO:prophet:Disabling daily seasonality. Run prophet with daily_seasonality=True to override this.\n",
            "DEBUG:cmdstanpy:input tempfile: /tmp/tmpnd7erjuf/v_nzv__g.json\n",
            "DEBUG:cmdstanpy:input tempfile: /tmp/tmpnd7erjuf/6d81keyl.json\n",
            "DEBUG:cmdstanpy:idx 0\n",
            "DEBUG:cmdstanpy:running CmdStan, num_threads: None\n",
            "DEBUG:cmdstanpy:CmdStan args: ['/usr/local/lib/python3.12/dist-packages/prophet/stan_model/prophet_model.bin', 'random', 'seed=22746', 'data', 'file=/tmp/tmpnd7erjuf/v_nzv__g.json', 'init=/tmp/tmpnd7erjuf/6d81keyl.json', 'output', 'file=/tmp/tmpnd7erjuf/prophet_model6pv8e9fh/prophet_model-20251023123228.csv', 'method=optimize', 'algorithm=lbfgs', 'iter=10000']\n",
            "12:32:28 - cmdstanpy - INFO - Chain [1] start processing\n",
            "INFO:cmdstanpy:Chain [1] start processing\n",
            "12:32:28 - cmdstanpy - INFO - Chain [1] done processing\n",
            "INFO:cmdstanpy:Chain [1] done processing\n"
          ]
        },
        {
          "output_type": "stream",
          "name": "stdout",
          "text": [
            "Prophet failed for Amaravati: Dataframe has no rows.\n",
            "\u001b[1m1/6\u001b[0m \u001b[32m━━━\u001b[0m\u001b[37m━━━━━━━━━━━━━━━━━\u001b[0m \u001b[1m0s\u001b[0m 157ms/step"
          ]
        },
        {
          "output_type": "stream",
          "name": "stderr",
          "text": [
            "WARNING:tensorflow:5 out of the last 20 calls to <function TensorFlowTrainer.make_predict_function.<locals>.one_step_on_data_distributed at 0x7a0278346340> triggered tf.function retracing. Tracing is expensive and the excessive number of tracings could be due to (1) creating @tf.function repeatedly in a loop, (2) passing tensors with different shapes, (3) passing Python objects instead of tensors. For (1), please define your @tf.function outside of the loop. For (2), @tf.function has reduce_retracing=True option that can avoid unnecessary retracing. For (3), please refer to https://www.tensorflow.org/guide/function#controlling_retracing and https://www.tensorflow.org/api_docs/python/tf/function for  more details.\n"
          ]
        },
        {
          "output_type": "stream",
          "name": "stdout",
          "text": [
            "\u001b[1m6/6\u001b[0m \u001b[32m━━━━━━━━━━━━━━━━━━━━\u001b[0m\u001b[37m\u001b[0m \u001b[1m0s\u001b[0m 37ms/step\n",
            "\n",
            "📊 Amaravati results:\n",
            "                MAE       RMSE\n",
            "ARIMA    46.059704  48.718952\n",
            "XGBoost   5.782988   8.542596\n",
            "LSTM      9.987509  12.784059\n",
            "🏆 Best model for Amaravati: XGBoost (RMSE=8.54)\n",
            "\n",
            "================= Amritsar =================\n"
          ]
        },
        {
          "output_type": "stream",
          "name": "stderr",
          "text": [
            "INFO:prophet:Disabling daily seasonality. Run prophet with daily_seasonality=True to override this.\n",
            "DEBUG:cmdstanpy:input tempfile: /tmp/tmpnd7erjuf/94l89y7y.json\n",
            "DEBUG:cmdstanpy:input tempfile: /tmp/tmpnd7erjuf/sr9arm_n.json\n",
            "DEBUG:cmdstanpy:idx 0\n",
            "DEBUG:cmdstanpy:running CmdStan, num_threads: None\n",
            "DEBUG:cmdstanpy:CmdStan args: ['/usr/local/lib/python3.12/dist-packages/prophet/stan_model/prophet_model.bin', 'random', 'seed=91121', 'data', 'file=/tmp/tmpnd7erjuf/94l89y7y.json', 'init=/tmp/tmpnd7erjuf/sr9arm_n.json', 'output', 'file=/tmp/tmpnd7erjuf/prophet_model_6vjdl9k/prophet_model-20251023123234.csv', 'method=optimize', 'algorithm=lbfgs', 'iter=10000']\n",
            "12:32:34 - cmdstanpy - INFO - Chain [1] start processing\n",
            "INFO:cmdstanpy:Chain [1] start processing\n",
            "12:32:34 - cmdstanpy - INFO - Chain [1] done processing\n",
            "INFO:cmdstanpy:Chain [1] done processing\n"
          ]
        },
        {
          "output_type": "stream",
          "name": "stdout",
          "text": [
            "Prophet failed for Amritsar: Dataframe has no rows.\n"
          ]
        },
        {
          "output_type": "stream",
          "name": "stderr",
          "text": [
            "WARNING:tensorflow:6 out of the last 21 calls to <function TensorFlowTrainer.make_predict_function.<locals>.one_step_on_data_distributed at 0x7a025e7d05e0> triggered tf.function retracing. Tracing is expensive and the excessive number of tracings could be due to (1) creating @tf.function repeatedly in a loop, (2) passing tensors with different shapes, (3) passing Python objects instead of tensors. For (1), please define your @tf.function outside of the loop. For (2), @tf.function has reduce_retracing=True option that can avoid unnecessary retracing. For (3), please refer to https://www.tensorflow.org/guide/function#controlling_retracing and https://www.tensorflow.org/api_docs/python/tf/function for  more details.\n"
          ]
        },
        {
          "output_type": "stream",
          "name": "stdout",
          "text": [
            "\u001b[1m8/8\u001b[0m \u001b[32m━━━━━━━━━━━━━━━━━━━━\u001b[0m\u001b[37m\u001b[0m \u001b[1m1s\u001b[0m 25ms/step\n",
            "\n",
            "📊 Amritsar results:\n",
            "                MAE       RMSE\n",
            "ARIMA    23.144544  29.378208\n",
            "XGBoost  14.865142  20.910291\n",
            "LSTM     23.238830  28.745932\n",
            "🏆 Best model for Amritsar: XGBoost (RMSE=20.91)\n",
            "\n",
            "================= Bengaluru =================\n"
          ]
        },
        {
          "output_type": "stream",
          "name": "stderr",
          "text": [
            "INFO:prophet:Disabling daily seasonality. Run prophet with daily_seasonality=True to override this.\n",
            "DEBUG:cmdstanpy:input tempfile: /tmp/tmpnd7erjuf/4pu17qzt.json\n",
            "DEBUG:cmdstanpy:input tempfile: /tmp/tmpnd7erjuf/dmzm2hai.json\n",
            "DEBUG:cmdstanpy:idx 0\n",
            "DEBUG:cmdstanpy:running CmdStan, num_threads: None\n",
            "DEBUG:cmdstanpy:CmdStan args: ['/usr/local/lib/python3.12/dist-packages/prophet/stan_model/prophet_model.bin', 'random', 'seed=62518', 'data', 'file=/tmp/tmpnd7erjuf/4pu17qzt.json', 'init=/tmp/tmpnd7erjuf/dmzm2hai.json', 'output', 'file=/tmp/tmpnd7erjuf/prophet_model_2hdqsw0/prophet_model-20251023123239.csv', 'method=optimize', 'algorithm=lbfgs', 'iter=10000']\n",
            "12:32:39 - cmdstanpy - INFO - Chain [1] start processing\n",
            "INFO:cmdstanpy:Chain [1] start processing\n",
            "12:32:40 - cmdstanpy - INFO - Chain [1] done processing\n",
            "INFO:cmdstanpy:Chain [1] done processing\n"
          ]
        },
        {
          "output_type": "stream",
          "name": "stdout",
          "text": [
            "Prophet failed for Bengaluru: Dataframe has no rows.\n",
            "\u001b[1m12/12\u001b[0m \u001b[32m━━━━━━━━━━━━━━━━━━━━\u001b[0m\u001b[37m\u001b[0m \u001b[1m0s\u001b[0m 18ms/step\n"
          ]
        },
        {
          "output_type": "stream",
          "name": "stderr",
          "text": [
            "INFO:prophet:Disabling yearly seasonality. Run prophet with yearly_seasonality=True to override this.\n",
            "INFO:prophet:Disabling daily seasonality. Run prophet with daily_seasonality=True to override this.\n",
            "DEBUG:cmdstanpy:input tempfile: /tmp/tmpnd7erjuf/2v_18h71.json\n",
            "DEBUG:cmdstanpy:input tempfile: /tmp/tmpnd7erjuf/zkyw0z4c.json\n",
            "DEBUG:cmdstanpy:idx 0\n",
            "DEBUG:cmdstanpy:running CmdStan, num_threads: None\n",
            "DEBUG:cmdstanpy:CmdStan args: ['/usr/local/lib/python3.12/dist-packages/prophet/stan_model/prophet_model.bin', 'random', 'seed=24936', 'data', 'file=/tmp/tmpnd7erjuf/2v_18h71.json', 'init=/tmp/tmpnd7erjuf/zkyw0z4c.json', 'output', 'file=/tmp/tmpnd7erjuf/prophet_modelyn9smlnj/prophet_model-20251023123249.csv', 'method=optimize', 'algorithm=lbfgs', 'iter=10000']\n",
            "12:32:49 - cmdstanpy - INFO - Chain [1] start processing\n",
            "INFO:cmdstanpy:Chain [1] start processing\n"
          ]
        },
        {
          "output_type": "stream",
          "name": "stdout",
          "text": [
            "\n",
            "📊 Bengaluru results:\n",
            "                MAE       RMSE\n",
            "ARIMA    10.226380  13.178619\n",
            "XGBoost   7.012022   9.948036\n",
            "LSTM     12.066299  13.992722\n",
            "🏆 Best model for Bengaluru: XGBoost (RMSE=9.95)\n",
            "\n",
            "================= Bhopal =================\n"
          ]
        },
        {
          "output_type": "stream",
          "name": "stderr",
          "text": [
            "12:32:49 - cmdstanpy - INFO - Chain [1] done processing\n",
            "INFO:cmdstanpy:Chain [1] done processing\n"
          ]
        },
        {
          "output_type": "stream",
          "name": "stdout",
          "text": [
            "Prophet failed for Bhopal: Dataframe has no rows.\n",
            "\u001b[1m2/2\u001b[0m \u001b[32m━━━━━━━━━━━━━━━━━━━━\u001b[0m\u001b[37m\u001b[0m \u001b[1m0s\u001b[0m 181ms/step\n",
            "\n",
            "📊 Bhopal results:\n",
            "                MAE       RMSE\n",
            "ARIMA    18.171623  18.841291\n",
            "XGBoost   5.093519   6.559585\n",
            "LSTM      6.273070   7.515643\n",
            "🏆 Best model for Bhopal: XGBoost (RMSE=6.56)\n",
            "\n",
            "================= Brajrajnagar =================\n"
          ]
        },
        {
          "output_type": "stream",
          "name": "stderr",
          "text": [
            "INFO:prophet:Disabling daily seasonality. Run prophet with daily_seasonality=True to override this.\n",
            "DEBUG:cmdstanpy:input tempfile: /tmp/tmpnd7erjuf/xnpyf1zl.json\n",
            "DEBUG:cmdstanpy:input tempfile: /tmp/tmpnd7erjuf/_uqq8vlo.json\n",
            "DEBUG:cmdstanpy:idx 0\n",
            "DEBUG:cmdstanpy:running CmdStan, num_threads: None\n",
            "DEBUG:cmdstanpy:CmdStan args: ['/usr/local/lib/python3.12/dist-packages/prophet/stan_model/prophet_model.bin', 'random', 'seed=8600', 'data', 'file=/tmp/tmpnd7erjuf/xnpyf1zl.json', 'init=/tmp/tmpnd7erjuf/_uqq8vlo.json', 'output', 'file=/tmp/tmpnd7erjuf/prophet_modelh8f19ser/prophet_model-20251023123259.csv', 'method=optimize', 'algorithm=lbfgs', 'iter=10000']\n",
            "12:32:59 - cmdstanpy - INFO - Chain [1] start processing\n",
            "INFO:cmdstanpy:Chain [1] start processing\n",
            "12:32:59 - cmdstanpy - INFO - Chain [1] done processing\n",
            "INFO:cmdstanpy:Chain [1] done processing\n"
          ]
        },
        {
          "output_type": "stream",
          "name": "stdout",
          "text": [
            "Prophet failed for Brajrajnagar: Dataframe has no rows.\n",
            "\u001b[1m6/6\u001b[0m \u001b[32m━━━━━━━━━━━━━━━━━━━━\u001b[0m\u001b[37m\u001b[0m \u001b[1m0s\u001b[0m 36ms/step\n",
            "\n",
            "📊 Brajrajnagar results:\n",
            "                MAE       RMSE\n",
            "ARIMA    19.473305  29.640273\n",
            "XGBoost  17.754461  29.381492\n",
            "LSTM     20.487060  31.940765\n",
            "🏆 Best model for Brajrajnagar: XGBoost (RMSE=29.38)\n",
            "\n",
            "================= Chandigarh =================\n"
          ]
        },
        {
          "output_type": "stream",
          "name": "stderr",
          "text": [
            "INFO:prophet:Disabling yearly seasonality. Run prophet with yearly_seasonality=True to override this.\n",
            "INFO:prophet:Disabling daily seasonality. Run prophet with daily_seasonality=True to override this.\n",
            "DEBUG:cmdstanpy:input tempfile: /tmp/tmpnd7erjuf/bt2223jt.json\n",
            "DEBUG:cmdstanpy:input tempfile: /tmp/tmpnd7erjuf/rsec7s08.json\n",
            "DEBUG:cmdstanpy:idx 0\n",
            "DEBUG:cmdstanpy:running CmdStan, num_threads: None\n",
            "DEBUG:cmdstanpy:CmdStan args: ['/usr/local/lib/python3.12/dist-packages/prophet/stan_model/prophet_model.bin', 'random', 'seed=39156', 'data', 'file=/tmp/tmpnd7erjuf/bt2223jt.json', 'init=/tmp/tmpnd7erjuf/rsec7s08.json', 'output', 'file=/tmp/tmpnd7erjuf/prophet_modelej4cby26/prophet_model-20251023123304.csv', 'method=optimize', 'algorithm=lbfgs', 'iter=10000']\n",
            "12:33:04 - cmdstanpy - INFO - Chain [1] start processing\n",
            "INFO:cmdstanpy:Chain [1] start processing\n",
            "12:33:04 - cmdstanpy - INFO - Chain [1] done processing\n",
            "INFO:cmdstanpy:Chain [1] done processing\n"
          ]
        },
        {
          "output_type": "stream",
          "name": "stdout",
          "text": [
            "Prophet failed for Chandigarh: Dataframe has no rows.\n",
            "\u001b[1m2/2\u001b[0m \u001b[32m━━━━━━━━━━━━━━━━━━━━\u001b[0m\u001b[37m\u001b[0m \u001b[1m0s\u001b[0m 161ms/step\n",
            "\n",
            "📊 Chandigarh results:\n",
            "                MAE       RMSE\n",
            "ARIMA     5.529729   6.960819\n",
            "XGBoost   6.993549   8.880164\n",
            "LSTM     13.438107  15.112325\n",
            "🏆 Best model for Chandigarh: ARIMA (RMSE=6.96)\n",
            "\n",
            "================= Chennai =================\n"
          ]
        },
        {
          "output_type": "stream",
          "name": "stderr",
          "text": [
            "INFO:prophet:Disabling daily seasonality. Run prophet with daily_seasonality=True to override this.\n",
            "DEBUG:cmdstanpy:input tempfile: /tmp/tmpnd7erjuf/uc9ifcuq.json\n",
            "DEBUG:cmdstanpy:input tempfile: /tmp/tmpnd7erjuf/m5j49r9e.json\n",
            "DEBUG:cmdstanpy:idx 0\n",
            "DEBUG:cmdstanpy:running CmdStan, num_threads: None\n",
            "DEBUG:cmdstanpy:CmdStan args: ['/usr/local/lib/python3.12/dist-packages/prophet/stan_model/prophet_model.bin', 'random', 'seed=16402', 'data', 'file=/tmp/tmpnd7erjuf/uc9ifcuq.json', 'init=/tmp/tmpnd7erjuf/m5j49r9e.json', 'output', 'file=/tmp/tmpnd7erjuf/prophet_model_lm2etse/prophet_model-20251023123309.csv', 'method=optimize', 'algorithm=lbfgs', 'iter=10000']\n",
            "12:33:09 - cmdstanpy - INFO - Chain [1] start processing\n",
            "INFO:cmdstanpy:Chain [1] start processing\n",
            "12:33:09 - cmdstanpy - INFO - Chain [1] done processing\n",
            "INFO:cmdstanpy:Chain [1] done processing\n"
          ]
        },
        {
          "output_type": "stream",
          "name": "stdout",
          "text": [
            "Prophet failed for Chennai: Dataframe has no rows.\n",
            "\u001b[1m12/12\u001b[0m \u001b[32m━━━━━━━━━━━━━━━━━━━━\u001b[0m\u001b[37m\u001b[0m \u001b[1m0s\u001b[0m 17ms/step\n"
          ]
        },
        {
          "output_type": "stream",
          "name": "stderr",
          "text": [
            "INFO:prophet:Disabling yearly seasonality. Run prophet with yearly_seasonality=True to override this.\n",
            "INFO:prophet:Disabling daily seasonality. Run prophet with daily_seasonality=True to override this.\n"
          ]
        },
        {
          "output_type": "stream",
          "name": "stdout",
          "text": [
            "\n",
            "📊 Chennai results:\n",
            "                MAE       RMSE\n",
            "ARIMA    22.177910  25.940700\n",
            "XGBoost  12.736097  18.637170\n",
            "LSTM     18.085582  21.981422\n",
            "🏆 Best model for Chennai: XGBoost (RMSE=18.64)\n",
            "\n",
            "================= Coimbatore =================\n"
          ]
        },
        {
          "output_type": "stream",
          "name": "stderr",
          "text": [
            "DEBUG:cmdstanpy:input tempfile: /tmp/tmpnd7erjuf/kqb0suu5.json\n",
            "DEBUG:cmdstanpy:input tempfile: /tmp/tmpnd7erjuf/zcd6bd7s.json\n",
            "DEBUG:cmdstanpy:idx 0\n",
            "DEBUG:cmdstanpy:running CmdStan, num_threads: None\n",
            "DEBUG:cmdstanpy:CmdStan args: ['/usr/local/lib/python3.12/dist-packages/prophet/stan_model/prophet_model.bin', 'random', 'seed=57205', 'data', 'file=/tmp/tmpnd7erjuf/kqb0suu5.json', 'init=/tmp/tmpnd7erjuf/zcd6bd7s.json', 'output', 'file=/tmp/tmpnd7erjuf/prophet_model49s_jb2k/prophet_model-20251023123317.csv', 'method=optimize', 'algorithm=lbfgs', 'iter=10000']\n",
            "12:33:17 - cmdstanpy - INFO - Chain [1] start processing\n",
            "INFO:cmdstanpy:Chain [1] start processing\n",
            "12:33:17 - cmdstanpy - INFO - Chain [1] done processing\n",
            "INFO:cmdstanpy:Chain [1] done processing\n"
          ]
        },
        {
          "output_type": "stream",
          "name": "stdout",
          "text": [
            "Prophet failed for Coimbatore: Dataframe has no rows.\n",
            "\u001b[1m3/3\u001b[0m \u001b[32m━━━━━━━━━━━━━━━━━━━━\u001b[0m\u001b[37m\u001b[0m \u001b[1m0s\u001b[0m 81ms/step\n",
            "\n",
            "📊 Coimbatore results:\n",
            "                MAE       RMSE\n",
            "ARIMA    10.219975  11.949226\n",
            "XGBoost   6.471557   8.207308\n",
            "LSTM      7.933070   9.602408\n",
            "🏆 Best model for Coimbatore: XGBoost (RMSE=8.21)\n",
            "\n",
            "================= Delhi =================\n"
          ]
        },
        {
          "output_type": "stream",
          "name": "stderr",
          "text": [
            "INFO:prophet:Disabling daily seasonality. Run prophet with daily_seasonality=True to override this.\n",
            "DEBUG:cmdstanpy:input tempfile: /tmp/tmpnd7erjuf/0ru0lzbo.json\n",
            "DEBUG:cmdstanpy:input tempfile: /tmp/tmpnd7erjuf/kjw350ah.json\n",
            "DEBUG:cmdstanpy:idx 0\n",
            "DEBUG:cmdstanpy:running CmdStan, num_threads: None\n",
            "DEBUG:cmdstanpy:CmdStan args: ['/usr/local/lib/python3.12/dist-packages/prophet/stan_model/prophet_model.bin', 'random', 'seed=61600', 'data', 'file=/tmp/tmpnd7erjuf/0ru0lzbo.json', 'init=/tmp/tmpnd7erjuf/kjw350ah.json', 'output', 'file=/tmp/tmpnd7erjuf/prophet_model_3gmazdd/prophet_model-20251023123323.csv', 'method=optimize', 'algorithm=lbfgs', 'iter=10000']\n",
            "12:33:23 - cmdstanpy - INFO - Chain [1] start processing\n",
            "INFO:cmdstanpy:Chain [1] start processing\n",
            "12:33:24 - cmdstanpy - INFO - Chain [1] done processing\n",
            "INFO:cmdstanpy:Chain [1] done processing\n"
          ]
        },
        {
          "output_type": "stream",
          "name": "stdout",
          "text": [
            "Prophet failed for Delhi: Dataframe has no rows.\n",
            "\u001b[1m13/13\u001b[0m \u001b[32m━━━━━━━━━━━━━━━━━━━━\u001b[0m\u001b[37m\u001b[0m \u001b[1m0s\u001b[0m 16ms/step\n",
            "\n",
            "📊 Delhi results:\n"
          ]
        },
        {
          "output_type": "stream",
          "name": "stderr",
          "text": [
            "INFO:prophet:Disabling yearly seasonality. Run prophet with yearly_seasonality=True to override this.\n",
            "INFO:prophet:Disabling daily seasonality. Run prophet with daily_seasonality=True to override this.\n",
            "DEBUG:cmdstanpy:input tempfile: /tmp/tmpnd7erjuf/auspzp7y.json\n",
            "DEBUG:cmdstanpy:input tempfile: /tmp/tmpnd7erjuf/nbbjbiw3.json\n",
            "DEBUG:cmdstanpy:idx 0\n",
            "DEBUG:cmdstanpy:running CmdStan, num_threads: None\n",
            "DEBUG:cmdstanpy:CmdStan args: ['/usr/local/lib/python3.12/dist-packages/prophet/stan_model/prophet_model.bin', 'random', 'seed=53729', 'data', 'file=/tmp/tmpnd7erjuf/auspzp7y.json', 'init=/tmp/tmpnd7erjuf/nbbjbiw3.json', 'output', 'file=/tmp/tmpnd7erjuf/prophet_modeleebpph3z/prophet_model-20251023123337.csv', 'method=optimize', 'algorithm=lbfgs', 'iter=10000']\n",
            "12:33:37 - cmdstanpy - INFO - Chain [1] start processing\n",
            "INFO:cmdstanpy:Chain [1] start processing\n"
          ]
        },
        {
          "output_type": "stream",
          "name": "stdout",
          "text": [
            "                MAE       RMSE\n",
            "ARIMA    52.651635  81.865323\n",
            "XGBoost  25.682391  43.327750\n",
            "LSTM     38.115886  59.702696\n",
            "🏆 Best model for Delhi: XGBoost (RMSE=43.33)\n",
            "\n",
            "================= Ernakulam =================\n"
          ]
        },
        {
          "output_type": "stream",
          "name": "stderr",
          "text": [
            "12:33:37 - cmdstanpy - INFO - Chain [1] done processing\n",
            "INFO:cmdstanpy:Chain [1] done processing\n"
          ]
        },
        {
          "output_type": "stream",
          "name": "stdout",
          "text": [
            "Prophet failed for Ernakulam: Dataframe has no rows.\n",
            "\u001b[1m1/1\u001b[0m \u001b[32m━━━━━━━━━━━━━━━━━━━━\u001b[0m\u001b[37m\u001b[0m \u001b[1m0s\u001b[0m 197ms/step\n"
          ]
        },
        {
          "output_type": "stream",
          "name": "stderr",
          "text": [
            "WARNING:absl:You are saving your model as an HDF5 file via `model.save()` or `keras.saving.save_model(model)`. This file format is considered legacy. We recommend using instead the native Keras format, e.g. `model.save('my_model.keras')` or `keras.saving.save_model(model, 'my_model.keras')`. \n"
          ]
        },
        {
          "output_type": "stream",
          "name": "stdout",
          "text": [
            "\n",
            "📊 Ernakulam results:\n",
            "               MAE      RMSE\n",
            "ARIMA    5.352910  6.112892\n",
            "XGBoost  5.971780  7.078631\n",
            "LSTM     4.641688  5.279909\n",
            "🏆 Best model for Ernakulam: LSTM (RMSE=5.28)\n",
            "\n",
            "================= Gurugram =================\n"
          ]
        },
        {
          "output_type": "stream",
          "name": "stderr",
          "text": [
            "INFO:prophet:Disabling daily seasonality. Run prophet with daily_seasonality=True to override this.\n",
            "DEBUG:cmdstanpy:input tempfile: /tmp/tmpnd7erjuf/_68pvigz.json\n",
            "DEBUG:cmdstanpy:input tempfile: /tmp/tmpnd7erjuf/phb7t23v.json\n",
            "DEBUG:cmdstanpy:idx 0\n",
            "DEBUG:cmdstanpy:running CmdStan, num_threads: None\n",
            "DEBUG:cmdstanpy:CmdStan args: ['/usr/local/lib/python3.12/dist-packages/prophet/stan_model/prophet_model.bin', 'random', 'seed=7110', 'data', 'file=/tmp/tmpnd7erjuf/_68pvigz.json', 'init=/tmp/tmpnd7erjuf/phb7t23v.json', 'output', 'file=/tmp/tmpnd7erjuf/prophet_modeltcl3q8ch/prophet_model-20251023123343.csv', 'method=optimize', 'algorithm=lbfgs', 'iter=10000']\n",
            "12:33:43 - cmdstanpy - INFO - Chain [1] start processing\n",
            "INFO:cmdstanpy:Chain [1] start processing\n",
            "12:33:43 - cmdstanpy - INFO - Chain [1] done processing\n",
            "INFO:cmdstanpy:Chain [1] done processing\n"
          ]
        },
        {
          "output_type": "stream",
          "name": "stdout",
          "text": [
            "Prophet failed for Gurugram: Dataframe has no rows.\n",
            "\u001b[1m10/10\u001b[0m \u001b[32m━━━━━━━━━━━━━━━━━━━━\u001b[0m\u001b[37m\u001b[0m \u001b[1m0s\u001b[0m 4ms/step  \n",
            "\n",
            "📊 Gurugram results:\n",
            "                MAE       RMSE\n",
            "ARIMA    60.545380  91.638857\n",
            "XGBoost  28.712781  47.540338\n",
            "LSTM     44.114903  61.505960\n",
            "🏆 Best model for Gurugram: XGBoost (RMSE=47.54)\n",
            "\n",
            "================= Guwahati =================\n"
          ]
        },
        {
          "output_type": "stream",
          "name": "stderr",
          "text": [
            "INFO:prophet:Disabling yearly seasonality. Run prophet with yearly_seasonality=True to override this.\n",
            "INFO:prophet:Disabling daily seasonality. Run prophet with daily_seasonality=True to override this.\n",
            "DEBUG:cmdstanpy:input tempfile: /tmp/tmpnd7erjuf/ub_1zst6.json\n",
            "DEBUG:cmdstanpy:input tempfile: /tmp/tmpnd7erjuf/_9gzb2b3.json\n",
            "DEBUG:cmdstanpy:idx 0\n",
            "DEBUG:cmdstanpy:running CmdStan, num_threads: None\n",
            "DEBUG:cmdstanpy:CmdStan args: ['/usr/local/lib/python3.12/dist-packages/prophet/stan_model/prophet_model.bin', 'random', 'seed=61924', 'data', 'file=/tmp/tmpnd7erjuf/ub_1zst6.json', 'init=/tmp/tmpnd7erjuf/_9gzb2b3.json', 'output', 'file=/tmp/tmpnd7erjuf/prophet_modeld13f9k1m/prophet_model-20251023123351.csv', 'method=optimize', 'algorithm=lbfgs', 'iter=10000']\n",
            "12:33:51 - cmdstanpy - INFO - Chain [1] start processing\n",
            "INFO:cmdstanpy:Chain [1] start processing\n",
            "12:33:51 - cmdstanpy - INFO - Chain [1] done processing\n",
            "INFO:cmdstanpy:Chain [1] done processing\n"
          ]
        },
        {
          "output_type": "stream",
          "name": "stdout",
          "text": [
            "Prophet failed for Guwahati: Dataframe has no rows.\n",
            "\u001b[1m3/3\u001b[0m \u001b[32m━━━━━━━━━━━━━━━━━━━━\u001b[0m\u001b[37m\u001b[0m \u001b[1m0s\u001b[0m 15ms/step \n"
          ]
        },
        {
          "output_type": "stream",
          "name": "stderr",
          "text": [
            "WARNING:absl:You are saving your model as an HDF5 file via `model.save()` or `keras.saving.save_model(model)`. This file format is considered legacy. We recommend using instead the native Keras format, e.g. `model.save('my_model.keras')` or `keras.saving.save_model(model, 'my_model.keras')`. \n"
          ]
        },
        {
          "output_type": "stream",
          "name": "stdout",
          "text": [
            "\n",
            "📊 Guwahati results:\n",
            "                MAE        RMSE\n",
            "ARIMA    59.556022   63.997338\n",
            "XGBoost  38.643290  113.256721\n",
            "LSTM     38.304166   40.421949\n",
            "🏆 Best model for Guwahati: LSTM (RMSE=40.42)\n",
            "\n",
            "================= Hyderabad =================\n"
          ]
        },
        {
          "output_type": "stream",
          "name": "stderr",
          "text": [
            "INFO:prophet:Disabling daily seasonality. Run prophet with daily_seasonality=True to override this.\n",
            "DEBUG:cmdstanpy:input tempfile: /tmp/tmpnd7erjuf/0hw_zzsi.json\n",
            "DEBUG:cmdstanpy:input tempfile: /tmp/tmpnd7erjuf/m1601tu8.json\n",
            "DEBUG:cmdstanpy:idx 0\n",
            "DEBUG:cmdstanpy:running CmdStan, num_threads: None\n",
            "DEBUG:cmdstanpy:CmdStan args: ['/usr/local/lib/python3.12/dist-packages/prophet/stan_model/prophet_model.bin', 'random', 'seed=15594', 'data', 'file=/tmp/tmpnd7erjuf/0hw_zzsi.json', 'init=/tmp/tmpnd7erjuf/m1601tu8.json', 'output', 'file=/tmp/tmpnd7erjuf/prophet_modeliyrzl8y3/prophet_model-20251023123357.csv', 'method=optimize', 'algorithm=lbfgs', 'iter=10000']\n",
            "12:33:57 - cmdstanpy - INFO - Chain [1] start processing\n",
            "INFO:cmdstanpy:Chain [1] start processing\n",
            "12:33:57 - cmdstanpy - INFO - Chain [1] done processing\n",
            "INFO:cmdstanpy:Chain [1] done processing\n"
          ]
        },
        {
          "output_type": "stream",
          "name": "stdout",
          "text": [
            "Prophet failed for Hyderabad: Dataframe has no rows.\n",
            "\u001b[1m12/12\u001b[0m \u001b[32m━━━━━━━━━━━━━━━━━━━━\u001b[0m\u001b[37m\u001b[0m \u001b[1m0s\u001b[0m 16ms/step\n",
            "\n",
            "📊 Hyderabad results:\n",
            "                MAE       RMSE\n",
            "ARIMA    15.741903  19.944432\n",
            "XGBoost   7.265608  10.618511\n",
            "LSTM     18.777337  20.899206\n",
            "🏆 Best model for Hyderabad: XGBoost (RMSE=10.62)\n",
            "\n",
            "================= Jaipur =================\n"
          ]
        },
        {
          "output_type": "stream",
          "name": "stderr",
          "text": [
            "INFO:prophet:Disabling daily seasonality. Run prophet with daily_seasonality=True to override this.\n",
            "DEBUG:cmdstanpy:input tempfile: /tmp/tmpnd7erjuf/k44y_h08.json\n",
            "DEBUG:cmdstanpy:input tempfile: /tmp/tmpnd7erjuf/atse3vns.json\n",
            "DEBUG:cmdstanpy:idx 0\n",
            "DEBUG:cmdstanpy:running CmdStan, num_threads: None\n",
            "DEBUG:cmdstanpy:CmdStan args: ['/usr/local/lib/python3.12/dist-packages/prophet/stan_model/prophet_model.bin', 'random', 'seed=72378', 'data', 'file=/tmp/tmpnd7erjuf/k44y_h08.json', 'init=/tmp/tmpnd7erjuf/atse3vns.json', 'output', 'file=/tmp/tmpnd7erjuf/prophet_model8npg4nux/prophet_model-20251023123403.csv', 'method=optimize', 'algorithm=lbfgs', 'iter=10000']\n",
            "12:34:03 - cmdstanpy - INFO - Chain [1] start processing\n",
            "INFO:cmdstanpy:Chain [1] start processing\n",
            "12:34:03 - cmdstanpy - INFO - Chain [1] done processing\n",
            "INFO:cmdstanpy:Chain [1] done processing\n"
          ]
        },
        {
          "output_type": "stream",
          "name": "stdout",
          "text": [
            "Prophet failed for Jaipur: Dataframe has no rows.\n",
            "\u001b[1m7/7\u001b[0m \u001b[32m━━━━━━━━━━━━━━━━━━━━\u001b[0m\u001b[37m\u001b[0m \u001b[1m0s\u001b[0m 32ms/step\n"
          ]
        },
        {
          "output_type": "stream",
          "name": "stderr",
          "text": [
            "INFO:prophet:Disabling yearly seasonality. Run prophet with yearly_seasonality=True to override this.\n",
            "INFO:prophet:Disabling daily seasonality. Run prophet with daily_seasonality=True to override this.\n"
          ]
        },
        {
          "output_type": "stream",
          "name": "stdout",
          "text": [
            "\n",
            "📊 Jaipur results:\n",
            "                MAE       RMSE\n",
            "ARIMA    24.430001  27.961369\n",
            "XGBoost   9.624916  12.984724\n",
            "LSTM     10.547000  13.051422\n",
            "🏆 Best model for Jaipur: XGBoost (RMSE=12.98)\n",
            "\n",
            "================= Jorapokhar =================\n"
          ]
        },
        {
          "output_type": "stream",
          "name": "stderr",
          "text": [
            "DEBUG:cmdstanpy:input tempfile: /tmp/tmpnd7erjuf/ksry03ln.json\n",
            "DEBUG:cmdstanpy:input tempfile: /tmp/tmpnd7erjuf/55df9i2r.json\n",
            "DEBUG:cmdstanpy:idx 0\n",
            "DEBUG:cmdstanpy:running CmdStan, num_threads: None\n",
            "DEBUG:cmdstanpy:CmdStan args: ['/usr/local/lib/python3.12/dist-packages/prophet/stan_model/prophet_model.bin', 'random', 'seed=15662', 'data', 'file=/tmp/tmpnd7erjuf/ksry03ln.json', 'init=/tmp/tmpnd7erjuf/55df9i2r.json', 'output', 'file=/tmp/tmpnd7erjuf/prophet_model0z3b03uv/prophet_model-20251023123408.csv', 'method=optimize', 'algorithm=lbfgs', 'iter=10000']\n",
            "12:34:08 - cmdstanpy - INFO - Chain [1] start processing\n",
            "INFO:cmdstanpy:Chain [1] start processing\n",
            "12:34:08 - cmdstanpy - INFO - Chain [1] done processing\n",
            "INFO:cmdstanpy:Chain [1] done processing\n"
          ]
        },
        {
          "output_type": "stream",
          "name": "stdout",
          "text": [
            "Prophet failed for Jorapokhar: Dataframe has no rows.\n",
            "\u001b[1m4/4\u001b[0m \u001b[32m━━━━━━━━━━━━━━━━━━━━\u001b[0m\u001b[37m\u001b[0m \u001b[1m0s\u001b[0m 63ms/step\n",
            "\n",
            "📊 Jorapokhar results:\n",
            "                MAE       RMSE\n",
            "ARIMA    42.074438  47.334309\n",
            "XGBoost  13.932973  18.033334\n",
            "LSTM     19.441640  23.144948\n",
            "🏆 Best model for Jorapokhar: XGBoost (RMSE=18.03)\n"
          ]
        },
        {
          "output_type": "stream",
          "name": "stderr",
          "text": [
            "INFO:prophet:Disabling yearly seasonality. Run prophet with yearly_seasonality=True to override this.\n",
            "INFO:prophet:Disabling daily seasonality. Run prophet with daily_seasonality=True to override this.\n",
            "DEBUG:cmdstanpy:input tempfile: /tmp/tmpnd7erjuf/ixe5_54r.json\n",
            "DEBUG:cmdstanpy:input tempfile: /tmp/tmpnd7erjuf/8_fonl3_.json\n",
            "DEBUG:cmdstanpy:idx 0\n",
            "DEBUG:cmdstanpy:running CmdStan, num_threads: None\n",
            "DEBUG:cmdstanpy:CmdStan args: ['/usr/local/lib/python3.12/dist-packages/prophet/stan_model/prophet_model.bin', 'random', 'seed=579', 'data', 'file=/tmp/tmpnd7erjuf/ixe5_54r.json', 'init=/tmp/tmpnd7erjuf/8_fonl3_.json', 'output', 'file=/tmp/tmpnd7erjuf/prophet_modelvs7uk6dg/prophet_model-20251023123413.csv', 'method=optimize', 'algorithm=lbfgs', 'iter=10000']\n",
            "12:34:13 - cmdstanpy - INFO - Chain [1] start processing\n",
            "INFO:cmdstanpy:Chain [1] start processing\n"
          ]
        },
        {
          "output_type": "stream",
          "name": "stdout",
          "text": [
            "\n",
            "================= Kochi =================\n"
          ]
        },
        {
          "output_type": "stream",
          "name": "stderr",
          "text": [
            "12:34:13 - cmdstanpy - INFO - Chain [1] done processing\n",
            "INFO:cmdstanpy:Chain [1] done processing\n"
          ]
        },
        {
          "output_type": "stream",
          "name": "stdout",
          "text": [
            "Prophet failed for Kochi: Dataframe has no rows.\n",
            "\u001b[1m1/1\u001b[0m \u001b[32m━━━━━━━━━━━━━━━━━━━━\u001b[0m\u001b[37m\u001b[0m \u001b[1m0s\u001b[0m 176ms/step\n",
            "\n",
            "📊 Kochi results:\n",
            "               MAE      RMSE\n",
            "ARIMA    6.547357  8.037866\n",
            "XGBoost  7.120276  8.657882\n",
            "LSTM     6.747708  8.365623\n",
            "🏆 Best model for Kochi: ARIMA (RMSE=8.04)\n",
            "\n",
            "================= Kolkata =================\n"
          ]
        },
        {
          "output_type": "stream",
          "name": "stderr",
          "text": [
            "INFO:prophet:Disabling yearly seasonality. Run prophet with yearly_seasonality=True to override this.\n",
            "INFO:prophet:Disabling daily seasonality. Run prophet with daily_seasonality=True to override this.\n",
            "DEBUG:cmdstanpy:input tempfile: /tmp/tmpnd7erjuf/sj2t8bh8.json\n",
            "DEBUG:cmdstanpy:input tempfile: /tmp/tmpnd7erjuf/t33cifgz.json\n",
            "DEBUG:cmdstanpy:idx 0\n",
            "DEBUG:cmdstanpy:running CmdStan, num_threads: None\n",
            "DEBUG:cmdstanpy:CmdStan args: ['/usr/local/lib/python3.12/dist-packages/prophet/stan_model/prophet_model.bin', 'random', 'seed=50017', 'data', 'file=/tmp/tmpnd7erjuf/sj2t8bh8.json', 'init=/tmp/tmpnd7erjuf/t33cifgz.json', 'output', 'file=/tmp/tmpnd7erjuf/prophet_modelea2ubyvo/prophet_model-20251023123417.csv', 'method=optimize', 'algorithm=lbfgs', 'iter=10000']\n",
            "12:34:17 - cmdstanpy - INFO - Chain [1] start processing\n",
            "INFO:cmdstanpy:Chain [1] start processing\n",
            "12:34:17 - cmdstanpy - INFO - Chain [1] done processing\n",
            "INFO:cmdstanpy:Chain [1] done processing\n"
          ]
        },
        {
          "output_type": "stream",
          "name": "stdout",
          "text": [
            "Prophet failed for Kolkata: Dataframe has no rows.\n",
            "\u001b[1m5/5\u001b[0m \u001b[32m━━━━━━━━━━━━━━━━━━━━\u001b[0m\u001b[37m\u001b[0m \u001b[1m0s\u001b[0m 59ms/step\n",
            "\n",
            "📊 Kolkata results:\n",
            "                MAE       RMSE\n",
            "ARIMA    52.472805  58.671697\n",
            "XGBoost   9.190130  13.449107\n",
            "LSTM     21.942078  24.183197\n",
            "🏆 Best model for Kolkata: XGBoost (RMSE=13.45)\n",
            "\n",
            "================= Lucknow =================\n"
          ]
        },
        {
          "output_type": "stream",
          "name": "stderr",
          "text": [
            "INFO:prophet:Disabling daily seasonality. Run prophet with daily_seasonality=True to override this.\n",
            "DEBUG:cmdstanpy:input tempfile: /tmp/tmpnd7erjuf/zm5g_ovx.json\n",
            "DEBUG:cmdstanpy:input tempfile: /tmp/tmpnd7erjuf/gf800_ix.json\n",
            "DEBUG:cmdstanpy:idx 0\n",
            "DEBUG:cmdstanpy:running CmdStan, num_threads: None\n",
            "DEBUG:cmdstanpy:CmdStan args: ['/usr/local/lib/python3.12/dist-packages/prophet/stan_model/prophet_model.bin', 'random', 'seed=38824', 'data', 'file=/tmp/tmpnd7erjuf/zm5g_ovx.json', 'init=/tmp/tmpnd7erjuf/gf800_ix.json', 'output', 'file=/tmp/tmpnd7erjuf/prophet_modelr7fhn73r/prophet_model-20251023123423.csv', 'method=optimize', 'algorithm=lbfgs', 'iter=10000']\n",
            "12:34:23 - cmdstanpy - INFO - Chain [1] start processing\n",
            "INFO:cmdstanpy:Chain [1] start processing\n",
            "12:34:23 - cmdstanpy - INFO - Chain [1] done processing\n",
            "INFO:cmdstanpy:Chain [1] done processing\n"
          ]
        },
        {
          "output_type": "stream",
          "name": "stdout",
          "text": [
            "Prophet failed for Lucknow: Dataframe has no rows.\n",
            "\u001b[1m12/12\u001b[0m \u001b[32m━━━━━━━━━━━━━━━━━━━━\u001b[0m\u001b[37m\u001b[0m \u001b[1m0s\u001b[0m 17ms/step\n",
            "\n",
            "📊 Lucknow results:\n",
            "                MAE       RMSE\n",
            "ARIMA    44.286939  56.990625\n",
            "XGBoost  18.228006  26.260177\n",
            "LSTM     27.233832  38.389247\n",
            "🏆 Best model for Lucknow: XGBoost (RMSE=26.26)\n"
          ]
        },
        {
          "output_type": "stream",
          "name": "stderr",
          "text": [
            "INFO:prophet:Disabling yearly seasonality. Run prophet with yearly_seasonality=True to override this.\n"
          ]
        },
        {
          "output_type": "stream",
          "name": "stdout",
          "text": [
            "\n",
            "================= Mumbai =================\n"
          ]
        },
        {
          "output_type": "stream",
          "name": "stderr",
          "text": [
            "INFO:prophet:Disabling daily seasonality. Run prophet with daily_seasonality=True to override this.\n",
            "DEBUG:cmdstanpy:input tempfile: /tmp/tmpnd7erjuf/wm12m5ma.json\n",
            "DEBUG:cmdstanpy:input tempfile: /tmp/tmpnd7erjuf/z_22uuz_.json\n",
            "DEBUG:cmdstanpy:idx 0\n",
            "DEBUG:cmdstanpy:running CmdStan, num_threads: None\n",
            "DEBUG:cmdstanpy:CmdStan args: ['/usr/local/lib/python3.12/dist-packages/prophet/stan_model/prophet_model.bin', 'random', 'seed=82367', 'data', 'file=/tmp/tmpnd7erjuf/wm12m5ma.json', 'init=/tmp/tmpnd7erjuf/z_22uuz_.json', 'output', 'file=/tmp/tmpnd7erjuf/prophet_modelo38wqt9u/prophet_model-20251023123433.csv', 'method=optimize', 'algorithm=lbfgs', 'iter=10000']\n",
            "12:34:33 - cmdstanpy - INFO - Chain [1] start processing\n",
            "INFO:cmdstanpy:Chain [1] start processing\n",
            "12:34:33 - cmdstanpy - INFO - Chain [1] done processing\n",
            "INFO:cmdstanpy:Chain [1] done processing\n"
          ]
        },
        {
          "output_type": "stream",
          "name": "stdout",
          "text": [
            "Prophet failed for Mumbai: Dataframe has no rows.\n",
            "\u001b[1m5/5\u001b[0m \u001b[32m━━━━━━━━━━━━━━━━━━━━\u001b[0m\u001b[37m\u001b[0m \u001b[1m0s\u001b[0m 42ms/step\n",
            "\n",
            "📊 Mumbai results:\n",
            "                MAE       RMSE\n",
            "ARIMA    49.365435  53.561051\n",
            "XGBoost   6.634575   9.973067\n",
            "LSTM     14.994702  18.169080\n",
            "🏆 Best model for Mumbai: XGBoost (RMSE=9.97)\n",
            "\n",
            "================= Patna =================\n"
          ]
        },
        {
          "output_type": "stream",
          "name": "stderr",
          "text": [
            "INFO:prophet:Disabling daily seasonality. Run prophet with daily_seasonality=True to override this.\n",
            "DEBUG:cmdstanpy:input tempfile: /tmp/tmpnd7erjuf/55k_xgwr.json\n",
            "DEBUG:cmdstanpy:input tempfile: /tmp/tmpnd7erjuf/1xcypmve.json\n",
            "DEBUG:cmdstanpy:idx 0\n",
            "DEBUG:cmdstanpy:running CmdStan, num_threads: None\n",
            "DEBUG:cmdstanpy:CmdStan args: ['/usr/local/lib/python3.12/dist-packages/prophet/stan_model/prophet_model.bin', 'random', 'seed=60206', 'data', 'file=/tmp/tmpnd7erjuf/55k_xgwr.json', 'init=/tmp/tmpnd7erjuf/1xcypmve.json', 'output', 'file=/tmp/tmpnd7erjuf/prophet_modelq_u_1vx0/prophet_model-20251023123439.csv', 'method=optimize', 'algorithm=lbfgs', 'iter=10000']\n",
            "12:34:39 - cmdstanpy - INFO - Chain [1] start processing\n",
            "INFO:cmdstanpy:Chain [1] start processing\n",
            "12:34:39 - cmdstanpy - INFO - Chain [1] done processing\n",
            "INFO:cmdstanpy:Chain [1] done processing\n"
          ]
        },
        {
          "output_type": "stream",
          "name": "stdout",
          "text": [
            "Prophet failed for Patna: Dataframe has no rows.\n",
            "\u001b[1m11/11\u001b[0m \u001b[32m━━━━━━━━━━━━━━━━━━━━\u001b[0m\u001b[37m\u001b[0m \u001b[1m0s\u001b[0m 19ms/step\n"
          ]
        },
        {
          "output_type": "stream",
          "name": "stderr",
          "text": [
            "INFO:prophet:Disabling yearly seasonality. Run prophet with yearly_seasonality=True to override this.\n",
            "INFO:prophet:Disabling daily seasonality. Run prophet with daily_seasonality=True to override this.\n"
          ]
        },
        {
          "output_type": "stream",
          "name": "stdout",
          "text": [
            "\n",
            "📊 Patna results:\n",
            "                MAE       RMSE\n",
            "ARIMA    53.660434  83.825269\n",
            "XGBoost  19.604390  29.888425\n",
            "LSTM     29.816180  41.868598\n",
            "🏆 Best model for Patna: XGBoost (RMSE=29.89)\n",
            "\n",
            "================= Shillong =================\n"
          ]
        },
        {
          "output_type": "stream",
          "name": "stderr",
          "text": [
            "DEBUG:cmdstanpy:input tempfile: /tmp/tmpnd7erjuf/1iv_1bd5.json\n",
            "DEBUG:cmdstanpy:input tempfile: /tmp/tmpnd7erjuf/7_b7zt9a.json\n",
            "DEBUG:cmdstanpy:idx 0\n",
            "DEBUG:cmdstanpy:running CmdStan, num_threads: None\n",
            "DEBUG:cmdstanpy:CmdStan args: ['/usr/local/lib/python3.12/dist-packages/prophet/stan_model/prophet_model.bin', 'random', 'seed=21690', 'data', 'file=/tmp/tmpnd7erjuf/1iv_1bd5.json', 'init=/tmp/tmpnd7erjuf/7_b7zt9a.json', 'output', 'file=/tmp/tmpnd7erjuf/prophet_model__x4g4xn/prophet_model-20251023123452.csv', 'method=optimize', 'algorithm=lbfgs', 'iter=10000']\n",
            "12:34:52 - cmdstanpy - INFO - Chain [1] start processing\n",
            "INFO:cmdstanpy:Chain [1] start processing\n",
            "12:34:52 - cmdstanpy - INFO - Chain [1] done processing\n",
            "INFO:cmdstanpy:Chain [1] done processing\n"
          ]
        },
        {
          "output_type": "stream",
          "name": "stdout",
          "text": [
            "Prophet failed for Shillong: Dataframe has no rows.\n",
            "\u001b[1m2/2\u001b[0m \u001b[32m━━━━━━━━━━━━━━━━━━━━\u001b[0m\u001b[37m\u001b[0m \u001b[1m0s\u001b[0m 160ms/step\n",
            "\n",
            "📊 Shillong results:\n",
            "                MAE       RMSE\n",
            "ARIMA     8.057934   9.884034\n",
            "XGBoost   7.501684  18.788493\n",
            "LSTM     16.994123  18.272754\n",
            "🏆 Best model for Shillong: ARIMA (RMSE=9.88)\n",
            "\n",
            "================= Talcher =================\n"
          ]
        },
        {
          "output_type": "stream",
          "name": "stderr",
          "text": [
            "INFO:prophet:Disabling yearly seasonality. Run prophet with yearly_seasonality=True to override this.\n",
            "INFO:prophet:Disabling daily seasonality. Run prophet with daily_seasonality=True to override this.\n",
            "DEBUG:cmdstanpy:input tempfile: /tmp/tmpnd7erjuf/kovy6m9v.json\n",
            "DEBUG:cmdstanpy:input tempfile: /tmp/tmpnd7erjuf/16r63poe.json\n",
            "DEBUG:cmdstanpy:idx 0\n",
            "DEBUG:cmdstanpy:running CmdStan, num_threads: None\n",
            "DEBUG:cmdstanpy:CmdStan args: ['/usr/local/lib/python3.12/dist-packages/prophet/stan_model/prophet_model.bin', 'random', 'seed=46178', 'data', 'file=/tmp/tmpnd7erjuf/kovy6m9v.json', 'init=/tmp/tmpnd7erjuf/16r63poe.json', 'output', 'file=/tmp/tmpnd7erjuf/prophet_modela0sajvhz/prophet_model-20251023123456.csv', 'method=optimize', 'algorithm=lbfgs', 'iter=10000']\n",
            "12:34:56 - cmdstanpy - INFO - Chain [1] start processing\n",
            "INFO:cmdstanpy:Chain [1] start processing\n",
            "12:34:56 - cmdstanpy - INFO - Chain [1] done processing\n",
            "INFO:cmdstanpy:Chain [1] done processing\n"
          ]
        },
        {
          "output_type": "stream",
          "name": "stdout",
          "text": [
            "Prophet failed for Talcher: Dataframe has no rows.\n",
            "\u001b[1m6/6\u001b[0m \u001b[32m━━━━━━━━━━━━━━━━━━━━\u001b[0m\u001b[37m\u001b[0m \u001b[1m0s\u001b[0m 33ms/step\n",
            "\n",
            "📊 Talcher results:\n",
            "                MAE        RMSE\n",
            "ARIMA    99.439935  107.129942\n",
            "XGBoost  17.676828   30.628640\n",
            "LSTM     26.824665   45.072418\n",
            "🏆 Best model for Talcher: XGBoost (RMSE=30.63)\n",
            "\n",
            "================= Thiruvananthapuram =================\n"
          ]
        },
        {
          "output_type": "stream",
          "name": "stderr",
          "text": [
            "INFO:prophet:Disabling daily seasonality. Run prophet with daily_seasonality=True to override this.\n",
            "DEBUG:cmdstanpy:input tempfile: /tmp/tmpnd7erjuf/l_adg5cl.json\n",
            "DEBUG:cmdstanpy:input tempfile: /tmp/tmpnd7erjuf/mwszostx.json\n",
            "DEBUG:cmdstanpy:idx 0\n",
            "DEBUG:cmdstanpy:running CmdStan, num_threads: None\n",
            "DEBUG:cmdstanpy:CmdStan args: ['/usr/local/lib/python3.12/dist-packages/prophet/stan_model/prophet_model.bin', 'random', 'seed=56154', 'data', 'file=/tmp/tmpnd7erjuf/l_adg5cl.json', 'init=/tmp/tmpnd7erjuf/mwszostx.json', 'output', 'file=/tmp/tmpnd7erjuf/prophet_model750m5d6m/prophet_model-20251023123503.csv', 'method=optimize', 'algorithm=lbfgs', 'iter=10000']\n",
            "12:35:03 - cmdstanpy - INFO - Chain [1] start processing\n",
            "INFO:cmdstanpy:Chain [1] start processing\n",
            "12:35:03 - cmdstanpy - INFO - Chain [1] done processing\n",
            "INFO:cmdstanpy:Chain [1] done processing\n"
          ]
        },
        {
          "output_type": "stream",
          "name": "stdout",
          "text": [
            "Prophet failed for Thiruvananthapuram: Dataframe has no rows.\n",
            "\u001b[1m7/7\u001b[0m \u001b[32m━━━━━━━━━━━━━━━━━━━━\u001b[0m\u001b[37m\u001b[0m \u001b[1m0s\u001b[0m 28ms/step\n",
            "\n",
            "📊 Thiruvananthapuram results:\n",
            "               MAE       RMSE\n",
            "ARIMA    9.455768  12.747514\n",
            "XGBoost  6.044753   8.761222\n",
            "LSTM     7.369290  10.727797\n",
            "🏆 Best model for Thiruvananthapuram: XGBoost (RMSE=8.76)\n",
            "\n",
            "================= Visakhapatnam =================\n"
          ]
        },
        {
          "output_type": "stream",
          "name": "stderr",
          "text": [
            "INFO:prophet:Disabling daily seasonality. Run prophet with daily_seasonality=True to override this.\n",
            "DEBUG:cmdstanpy:input tempfile: /tmp/tmpnd7erjuf/ohz9mpl6.json\n",
            "DEBUG:cmdstanpy:input tempfile: /tmp/tmpnd7erjuf/_jejtv8j.json\n",
            "DEBUG:cmdstanpy:idx 0\n",
            "DEBUG:cmdstanpy:running CmdStan, num_threads: None\n",
            "DEBUG:cmdstanpy:CmdStan args: ['/usr/local/lib/python3.12/dist-packages/prophet/stan_model/prophet_model.bin', 'random', 'seed=25471', 'data', 'file=/tmp/tmpnd7erjuf/ohz9mpl6.json', 'init=/tmp/tmpnd7erjuf/_jejtv8j.json', 'output', 'file=/tmp/tmpnd7erjuf/prophet_modelaml0mu83/prophet_model-20251023123507.csv', 'method=optimize', 'algorithm=lbfgs', 'iter=10000']\n",
            "12:35:07 - cmdstanpy - INFO - Chain [1] start processing\n",
            "INFO:cmdstanpy:Chain [1] start processing\n",
            "12:35:07 - cmdstanpy - INFO - Chain [1] done processing\n",
            "INFO:cmdstanpy:Chain [1] done processing\n"
          ]
        },
        {
          "output_type": "stream",
          "name": "stdout",
          "text": [
            "Prophet failed for Visakhapatnam: Dataframe has no rows.\n",
            "\u001b[1m9/9\u001b[0m \u001b[32m━━━━━━━━━━━━━━━━━━━━\u001b[0m\u001b[37m\u001b[0m \u001b[1m0s\u001b[0m 4ms/step  \n",
            "\n",
            "📊 Visakhapatnam results:\n",
            "                MAE       RMSE\n",
            "ARIMA    19.264551  26.562763\n",
            "XGBoost  12.309160  17.615974\n",
            "LSTM     16.255266  22.392741\n",
            "🏆 Best model for Visakhapatnam: XGBoost (RMSE=17.62)\n",
            "\n",
            "✅ Summary saved at: /content/results/city_model_summary.csv\n",
            "                  City Best_Model       RMSE  \\\n",
            "0            Ahmedabad    XGBoost  20.116114   \n",
            "1               Aizawl       LSTM   2.816050   \n",
            "2            Amaravati    XGBoost   8.542596   \n",
            "3             Amritsar    XGBoost  20.910291   \n",
            "4            Bengaluru    XGBoost   9.948036   \n",
            "5               Bhopal    XGBoost   6.559585   \n",
            "6         Brajrajnagar    XGBoost  29.381492   \n",
            "7           Chandigarh      ARIMA   6.960819   \n",
            "8              Chennai    XGBoost  18.637170   \n",
            "9           Coimbatore    XGBoost   8.207308   \n",
            "10               Delhi    XGBoost  43.327750   \n",
            "11           Ernakulam       LSTM   5.279909   \n",
            "12            Gurugram    XGBoost  47.540338   \n",
            "13            Guwahati       LSTM  40.421949   \n",
            "14           Hyderabad    XGBoost  10.618511   \n",
            "15              Jaipur    XGBoost  12.984724   \n",
            "16          Jorapokhar    XGBoost  18.033334   \n",
            "17               Kochi      ARIMA   8.037866   \n",
            "18             Kolkata    XGBoost  13.449107   \n",
            "19             Lucknow    XGBoost  26.260177   \n",
            "20              Mumbai    XGBoost   9.973067   \n",
            "21               Patna    XGBoost  29.888425   \n",
            "22            Shillong      ARIMA   9.884034   \n",
            "23             Talcher    XGBoost  30.628640   \n",
            "24  Thiruvananthapuram    XGBoost   8.761222   \n",
            "25       Visakhapatnam    XGBoost  17.615974   \n",
            "\n",
            "                                           Save_Path  \n",
            "0            /content/results/Ahmedabad_best_xgb.pkl  \n",
            "1               /content/results/Aizawl_best_lstm.h5  \n",
            "2            /content/results/Amaravati_best_xgb.pkl  \n",
            "3             /content/results/Amritsar_best_xgb.pkl  \n",
            "4            /content/results/Bengaluru_best_xgb.pkl  \n",
            "5               /content/results/Bhopal_best_xgb.pkl  \n",
            "6         /content/results/Brajrajnagar_best_xgb.pkl  \n",
            "7         /content/results/Chandigarh_best_arima.pkl  \n",
            "8              /content/results/Chennai_best_xgb.pkl  \n",
            "9           /content/results/Coimbatore_best_xgb.pkl  \n",
            "10               /content/results/Delhi_best_xgb.pkl  \n",
            "11           /content/results/Ernakulam_best_lstm.h5  \n",
            "12            /content/results/Gurugram_best_xgb.pkl  \n",
            "13            /content/results/Guwahati_best_lstm.h5  \n",
            "14           /content/results/Hyderabad_best_xgb.pkl  \n",
            "15              /content/results/Jaipur_best_xgb.pkl  \n",
            "16          /content/results/Jorapokhar_best_xgb.pkl  \n",
            "17             /content/results/Kochi_best_arima.pkl  \n",
            "18             /content/results/Kolkata_best_xgb.pkl  \n",
            "19             /content/results/Lucknow_best_xgb.pkl  \n",
            "20              /content/results/Mumbai_best_xgb.pkl  \n",
            "21               /content/results/Patna_best_xgb.pkl  \n",
            "22          /content/results/Shillong_best_arima.pkl  \n",
            "23             /content/results/Talcher_best_xgb.pkl  \n",
            "24  /content/results/Thiruvananthapuram_best_xgb.pkl  \n",
            "25       /content/results/Visakhapatnam_best_xgb.pkl  \n"
          ]
        }
      ]
    }
  ]
}